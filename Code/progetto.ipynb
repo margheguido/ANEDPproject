{
 "cells": [
  {
   "cell_type": "code",
   "execution_count": 3,
   "metadata": {},
   "outputs": [
    {
     "name": "stderr",
     "output_type": "stream",
     "text": [
      "Using TensorFlow backend.\n"
     ]
    }
   ],
   "source": [
    "import matlab\n",
    "import matlab.engine\n",
    "import numpy as np\n",
    "import array as ar\n",
    "import tensorflow\n",
    "from keras.models import Sequential\n",
    "from keras.layers import Dense"
   ]
  },
  {
   "cell_type": "code",
   "execution_count": 4,
   "metadata": {},
   "outputs": [],
   "source": [
    "eng = matlab.engine.start_matlab()"
   ]
  },
  {
   "cell_type": "code",
   "execution_count": 5,
   "metadata": {},
   "outputs": [
    {
     "name": "stdout",
     "output_type": "stream",
     "text": [
      "3\n",
      "4\n",
      "5\n"
     ]
    }
   ],
   "source": [
    "mu=np.array([3 ,4])\n",
    "mu=np.append(mu,[5])\n",
    "for i in np.nditer(mu):\n",
    "    print(i)\n"
   ]
  },
  {
   "cell_type": "code",
   "execution_count": 6,
   "metadata": {},
   "outputs": [
    {
     "data": {
      "text/plain": [
       "numpy.ndarray"
      ]
     },
     "execution_count": 6,
     "metadata": {},
     "output_type": "execute_result"
    }
   ],
   "source": [
    "def npArray2Matlab(x):\n",
    "    return matlab.double(x.tolist())\n",
    "mu = np.array([1.0e-3,1.0e-2,1.0e-6,1.0e-9]);\n",
    "mu2 = npArray2Matlab(mu);\n",
    "type(mu)"
   ]
  },
  {
   "cell_type": "code",
   "execution_count": 114,
   "metadata": {},
   "outputs": [
    {
     "name": "stdout",
     "output_type": "stream",
     "text": [
      "0.001\n"
     ]
    }
   ],
   "source": [
    "mu = ar.array('d',[1.0e-3,1.0e-2]);\n",
    "tau= ar.array('d',[]);\n",
    "A=matlab.double(mu.tolist());\n",
    "print(A[0][0])\n"
   ]
  },
  {
   "cell_type": "code",
   "execution_count": 3,
   "metadata": {},
   "outputs": [
    {
     "name": "stdout",
     "output_type": "stream",
     "text": [
      "0.001\n"
     ]
    },
    {
     "data": {
      "text/plain": [
       "numpy.ndarray"
      ]
     },
     "execution_count": 3,
     "metadata": {},
     "output_type": "execute_result"
    }
   ],
   "source": [
    "mu = np.array([1.0e-3,1.0e-2,1.0e-6,1.0e-9]);\n",
    "tau= np.array([]);\n",
    "mu_it=matlab.double(mu.tolist());\n",
    "print(mu_it[0][0])\n",
    "for i in range (0,len(mu)):\n",
    "    t = eng.main_python('Test2',5.0,1.0,mu_it[0][i],async=True,nargout=1);\n",
    "    t_res = t.result();\n",
    "    tau=np.append(tau,[t_res]);\n",
    "type(mu)\n"
   ]
  },
  {
   "cell_type": "code",
   "execution_count": 123,
   "metadata": {},
   "outputs": [],
   "source": [
    "# create model\n",
    "model = Sequential()\n",
    "model.add(Dense(12, input_dim=1, activation='relu'))\n",
    "model.add(Dense(1, activation='sigmoid'))\n",
    "model.compile(loss='binary_crossentropy', optimizer='adam', metrics=['accuracy'])"
   ]
  },
  {
   "cell_type": "code",
   "execution_count": 124,
   "metadata": {},
   "outputs": [
    {
     "name": "stdout",
     "output_type": "stream",
     "text": [
      "WARNING:tensorflow:From /Users/utente/anaconda3/envs/myenv/lib/python3.6/site-packages/tensorflow/python/ops/math_ops.py:3066: to_int32 (from tensorflow.python.ops.math_ops) is deprecated and will be removed in a future version.\n",
      "Instructions for updating:\n",
      "Use tf.cast instead.\n",
      "Epoch 1/150\n",
      "4/4 [==============================] - 0s 94ms/step - loss: 0.6925 - acc: 0.0000e+00\n",
      "Epoch 2/150\n",
      "4/4 [==============================] - 0s 389us/step - loss: 0.6909 - acc: 0.0000e+00\n",
      "Epoch 3/150\n",
      "4/4 [==============================] - 0s 720us/step - loss: 0.6894 - acc: 0.0000e+00\n",
      "Epoch 4/150\n",
      "4/4 [==============================] - 0s 588us/step - loss: 0.6879 - acc: 0.0000e+00\n",
      "Epoch 5/150\n",
      "4/4 [==============================] - 0s 1ms/step - loss: 0.6864 - acc: 0.0000e+00\n",
      "Epoch 6/150\n",
      "4/4 [==============================] - 0s 473us/step - loss: 0.6850 - acc: 0.0000e+00\n",
      "Epoch 7/150\n",
      "4/4 [==============================] - 0s 574us/step - loss: 0.6835 - acc: 0.0000e+00\n",
      "Epoch 8/150\n",
      "4/4 [==============================] - 0s 1ms/step - loss: 0.6820 - acc: 0.0000e+00\n",
      "Epoch 9/150\n",
      "4/4 [==============================] - 0s 1ms/step - loss: 0.6806 - acc: 0.0000e+00\n",
      "Epoch 10/150\n",
      "4/4 [==============================] - 0s 627us/step - loss: 0.6791 - acc: 0.0000e+00\n",
      "Epoch 11/150\n",
      "4/4 [==============================] - 0s 1ms/step - loss: 0.6776 - acc: 0.0000e+00\n",
      "Epoch 12/150\n",
      "4/4 [==============================] - 0s 1ms/step - loss: 0.6761 - acc: 0.0000e+00\n",
      "Epoch 13/150\n",
      "4/4 [==============================] - 0s 503us/step - loss: 0.6746 - acc: 0.0000e+00\n",
      "Epoch 14/150\n",
      "4/4 [==============================] - 0s 470us/step - loss: 0.6731 - acc: 0.0000e+00\n",
      "Epoch 15/150\n",
      "4/4 [==============================] - 0s 1ms/step - loss: 0.6715 - acc: 0.0000e+00\n",
      "Epoch 16/150\n",
      "4/4 [==============================] - 0s 812us/step - loss: 0.6700 - acc: 0.0000e+00\n",
      "Epoch 17/150\n",
      "4/4 [==============================] - 0s 602us/step - loss: 0.6685 - acc: 0.0000e+00\n",
      "Epoch 18/150\n",
      "4/4 [==============================] - 0s 943us/step - loss: 0.6669 - acc: 0.0000e+00\n",
      "Epoch 19/150\n",
      "4/4 [==============================] - 0s 1ms/step - loss: 0.6654 - acc: 0.0000e+00\n",
      "Epoch 20/150\n",
      "4/4 [==============================] - 0s 579us/step - loss: 0.6639 - acc: 0.0000e+00\n",
      "Epoch 21/150\n",
      "4/4 [==============================] - 0s 701us/step - loss: 0.6623 - acc: 0.0000e+00\n",
      "Epoch 22/150\n",
      "4/4 [==============================] - 0s 1ms/step - loss: 0.6607 - acc: 0.0000e+00\n",
      "Epoch 23/150\n",
      "4/4 [==============================] - 0s 508us/step - loss: 0.6592 - acc: 0.0000e+00\n",
      "Epoch 24/150\n",
      "4/4 [==============================] - 0s 546us/step - loss: 0.6576 - acc: 0.0000e+00\n",
      "Epoch 25/150\n",
      "4/4 [==============================] - 0s 1ms/step - loss: 0.6560 - acc: 0.0000e+00\n",
      "Epoch 26/150\n",
      "4/4 [==============================] - 0s 504us/step - loss: 0.6545 - acc: 0.0000e+00\n",
      "Epoch 27/150\n",
      "4/4 [==============================] - 0s 601us/step - loss: 0.6529 - acc: 0.0000e+00\n",
      "Epoch 28/150\n",
      "4/4 [==============================] - 0s 2ms/step - loss: 0.6513 - acc: 0.0000e+00\n",
      "Epoch 29/150\n",
      "4/4 [==============================] - 0s 750us/step - loss: 0.6497 - acc: 0.0000e+00\n",
      "Epoch 30/150\n",
      "4/4 [==============================] - 0s 553us/step - loss: 0.6481 - acc: 0.0000e+00\n",
      "Epoch 31/150\n",
      "4/4 [==============================] - 0s 2ms/step - loss: 0.6465 - acc: 0.0000e+00\n",
      "Epoch 32/150\n",
      "4/4 [==============================] - 0s 546us/step - loss: 0.6449 - acc: 0.0000e+00\n",
      "Epoch 33/150\n",
      "4/4 [==============================] - 0s 552us/step - loss: 0.6433 - acc: 0.0000e+00\n",
      "Epoch 34/150\n",
      "4/4 [==============================] - 0s 1ms/step - loss: 0.6417 - acc: 0.0000e+00\n",
      "Epoch 35/150\n",
      "4/4 [==============================] - 0s 1ms/step - loss: 0.6400 - acc: 0.0000e+00\n",
      "Epoch 36/150\n",
      "4/4 [==============================] - 0s 678us/step - loss: 0.6384 - acc: 0.0000e+00\n",
      "Epoch 37/150\n",
      "4/4 [==============================] - 0s 458us/step - loss: 0.6368 - acc: 0.0000e+00\n",
      "Epoch 38/150\n",
      "4/4 [==============================] - 0s 1ms/step - loss: 0.6351 - acc: 0.0000e+00\n",
      "Epoch 39/150\n",
      "4/4 [==============================] - 0s 559us/step - loss: 0.6335 - acc: 0.0000e+00\n",
      "Epoch 40/150\n",
      "4/4 [==============================] - 0s 468us/step - loss: 0.6318 - acc: 0.0000e+00\n",
      "Epoch 41/150\n",
      "4/4 [==============================] - 0s 537us/step - loss: 0.6302 - acc: 0.0000e+00\n",
      "Epoch 42/150\n",
      "4/4 [==============================] - 0s 2ms/step - loss: 0.6285 - acc: 0.0000e+00\n",
      "Epoch 43/150\n",
      "4/4 [==============================] - 0s 764us/step - loss: 0.6268 - acc: 0.0000e+00\n",
      "Epoch 44/150\n",
      "4/4 [==============================] - 0s 2ms/step - loss: 0.6252 - acc: 0.0000e+00\n",
      "Epoch 45/150\n",
      "4/4 [==============================] - 0s 850us/step - loss: 0.6235 - acc: 0.0000e+00\n",
      "Epoch 46/150\n",
      "4/4 [==============================] - 0s 1ms/step - loss: 0.6218 - acc: 0.0000e+00\n",
      "Epoch 47/150\n",
      "4/4 [==============================] - 0s 1ms/step - loss: 0.6201 - acc: 0.0000e+00\n",
      "Epoch 48/150\n",
      "4/4 [==============================] - 0s 630us/step - loss: 0.6185 - acc: 0.0000e+00\n",
      "Epoch 49/150\n",
      "4/4 [==============================] - 0s 1ms/step - loss: 0.6168 - acc: 0.0000e+00\n",
      "Epoch 50/150\n",
      "4/4 [==============================] - 0s 729us/step - loss: 0.6151 - acc: 0.0000e+00\n",
      "Epoch 51/150\n",
      "4/4 [==============================] - 0s 634us/step - loss: 0.6134 - acc: 0.0000e+00\n",
      "Epoch 52/150\n",
      "4/4 [==============================] - 0s 1ms/step - loss: 0.6116 - acc: 0.0000e+00\n",
      "Epoch 53/150\n",
      "4/4 [==============================] - 0s 640us/step - loss: 0.6099 - acc: 0.0000e+00\n",
      "Epoch 54/150\n",
      "4/4 [==============================] - 0s 729us/step - loss: 0.6082 - acc: 0.0000e+00\n",
      "Epoch 55/150\n",
      "4/4 [==============================] - 0s 2ms/step - loss: 0.6065 - acc: 0.0000e+00\n",
      "Epoch 56/150\n",
      "4/4 [==============================] - 0s 737us/step - loss: 0.6048 - acc: 0.0000e+00\n",
      "Epoch 57/150\n",
      "4/4 [==============================] - 0s 705us/step - loss: 0.6030 - acc: 0.0000e+00\n",
      "Epoch 58/150\n",
      "4/4 [==============================] - 0s 1ms/step - loss: 0.6013 - acc: 0.0000e+00\n",
      "Epoch 59/150\n",
      "4/4 [==============================] - 0s 516us/step - loss: 0.5996 - acc: 0.0000e+00\n",
      "Epoch 60/150\n",
      "4/4 [==============================] - 0s 647us/step - loss: 0.5978 - acc: 0.0000e+00\n",
      "Epoch 61/150\n",
      "4/4 [==============================] - 0s 762us/step - loss: 0.5961 - acc: 0.0000e+00\n",
      "Epoch 62/150\n",
      "4/4 [==============================] - 0s 736us/step - loss: 0.5943 - acc: 0.0000e+00\n",
      "Epoch 63/150\n",
      "4/4 [==============================] - 0s 683us/step - loss: 0.5926 - acc: 0.0000e+00\n",
      "Epoch 64/150\n",
      "4/4 [==============================] - 0s 2ms/step - loss: 0.5908 - acc: 0.0000e+00\n",
      "Epoch 65/150\n",
      "4/4 [==============================] - 0s 804us/step - loss: 0.5891 - acc: 0.0000e+00\n",
      "Epoch 66/150\n",
      "4/4 [==============================] - 0s 591us/step - loss: 0.5873 - acc: 0.0000e+00\n",
      "Epoch 67/150\n",
      "4/4 [==============================] - 0s 900us/step - loss: 0.5855 - acc: 0.0000e+00\n",
      "Epoch 68/150\n",
      "4/4 [==============================] - 0s 843us/step - loss: 0.5838 - acc: 0.0000e+00\n",
      "Epoch 69/150\n",
      "4/4 [==============================] - 0s 767us/step - loss: 0.5820 - acc: 0.0000e+00\n",
      "Epoch 70/150\n",
      "4/4 [==============================] - 0s 629us/step - loss: 0.5802 - acc: 0.0000e+00\n",
      "Epoch 71/150\n",
      "4/4 [==============================] - 0s 836us/step - loss: 0.5784 - acc: 0.0000e+00\n",
      "Epoch 72/150\n",
      "4/4 [==============================] - 0s 2ms/step - loss: 0.5766 - acc: 0.0000e+00\n",
      "Epoch 73/150\n",
      "4/4 [==============================] - 0s 642us/step - loss: 0.5748 - acc: 0.0000e+00\n",
      "Epoch 74/150\n",
      "4/4 [==============================] - 0s 2ms/step - loss: 0.5730 - acc: 0.0000e+00\n",
      "Epoch 75/150\n",
      "4/4 [==============================] - 0s 818us/step - loss: 0.5712 - acc: 0.0000e+00\n",
      "Epoch 76/150\n",
      "4/4 [==============================] - 0s 1ms/step - loss: 0.5694 - acc: 0.0000e+00\n",
      "Epoch 77/150\n",
      "4/4 [==============================] - 0s 665us/step - loss: 0.5676 - acc: 0.0000e+00\n",
      "Epoch 78/150\n",
      "4/4 [==============================] - 0s 552us/step - loss: 0.5658 - acc: 0.0000e+00\n",
      "Epoch 79/150\n",
      "4/4 [==============================] - 0s 617us/step - loss: 0.5640 - acc: 0.0000e+00\n",
      "Epoch 80/150\n",
      "4/4 [==============================] - 0s 816us/step - loss: 0.5622 - acc: 0.0000e+00\n",
      "Epoch 81/150\n",
      "4/4 [==============================] - 0s 1ms/step - loss: 0.5604 - acc: 0.0000e+00\n"
     ]
    },
    {
     "name": "stdout",
     "output_type": "stream",
     "text": [
      "Epoch 82/150\n",
      "4/4 [==============================] - 0s 646us/step - loss: 0.5586 - acc: 0.0000e+00\n",
      "Epoch 83/150\n",
      "4/4 [==============================] - 0s 587us/step - loss: 0.5567 - acc: 0.0000e+00\n",
      "Epoch 84/150\n",
      "4/4 [==============================] - 0s 841us/step - loss: 0.5549 - acc: 0.0000e+00\n",
      "Epoch 85/150\n",
      "4/4 [==============================] - 0s 609us/step - loss: 0.5531 - acc: 0.0000e+00\n",
      "Epoch 86/150\n",
      "4/4 [==============================] - 0s 2ms/step - loss: 0.5512 - acc: 0.0000e+00\n",
      "Epoch 87/150\n",
      "4/4 [==============================] - 0s 598us/step - loss: 0.5494 - acc: 0.0000e+00\n",
      "Epoch 88/150\n",
      "4/4 [==============================] - 0s 407us/step - loss: 0.5476 - acc: 0.0000e+00\n",
      "Epoch 89/150\n",
      "4/4 [==============================] - 0s 572us/step - loss: 0.5457 - acc: 0.0000e+00\n",
      "Epoch 90/150\n",
      "4/4 [==============================] - 0s 756us/step - loss: 0.5439 - acc: 0.0000e+00\n",
      "Epoch 91/150\n",
      "4/4 [==============================] - 0s 1ms/step - loss: 0.5421 - acc: 0.0000e+00\n",
      "Epoch 92/150\n",
      "4/4 [==============================] - 0s 791us/step - loss: 0.5402 - acc: 0.0000e+00\n",
      "Epoch 93/150\n",
      "4/4 [==============================] - 0s 708us/step - loss: 0.5384 - acc: 0.0000e+00\n",
      "Epoch 94/150\n",
      "4/4 [==============================] - 0s 661us/step - loss: 0.5365 - acc: 0.0000e+00\n",
      "Epoch 95/150\n",
      "4/4 [==============================] - 0s 633us/step - loss: 0.5347 - acc: 0.0000e+00\n",
      "Epoch 96/150\n",
      "4/4 [==============================] - 0s 663us/step - loss: 0.5328 - acc: 0.0000e+00\n",
      "Epoch 97/150\n",
      "4/4 [==============================] - 0s 2ms/step - loss: 0.5310 - acc: 0.0000e+00\n",
      "Epoch 98/150\n",
      "4/4 [==============================] - 0s 664us/step - loss: 0.5291 - acc: 0.0000e+00\n",
      "Epoch 99/150\n",
      "4/4 [==============================] - 0s 705us/step - loss: 0.5272 - acc: 0.0000e+00\n",
      "Epoch 100/150\n",
      "4/4 [==============================] - 0s 1ms/step - loss: 0.5254 - acc: 0.0000e+00\n",
      "Epoch 101/150\n",
      "4/4 [==============================] - 0s 616us/step - loss: 0.5235 - acc: 0.0000e+00\n",
      "Epoch 102/150\n",
      "4/4 [==============================] - 0s 668us/step - loss: 0.5217 - acc: 0.0000e+00\n",
      "Epoch 103/150\n",
      "4/4 [==============================] - 0s 522us/step - loss: 0.5198 - acc: 0.0000e+00\n",
      "Epoch 104/150\n",
      "4/4 [==============================] - 0s 409us/step - loss: 0.5179 - acc: 0.0000e+00\n",
      "Epoch 105/150\n",
      "4/4 [==============================] - 0s 557us/step - loss: 0.5161 - acc: 0.0000e+00\n",
      "Epoch 106/150\n",
      "4/4 [==============================] - 0s 763us/step - loss: 0.5142 - acc: 0.0000e+00\n",
      "Epoch 107/150\n",
      "4/4 [==============================] - 0s 521us/step - loss: 0.5124 - acc: 0.0000e+00\n",
      "Epoch 108/150\n",
      "4/4 [==============================] - 0s 866us/step - loss: 0.5105 - acc: 0.0000e+00\n",
      "Epoch 109/150\n",
      "4/4 [==============================] - 0s 791us/step - loss: 0.5086 - acc: 0.0000e+00\n",
      "Epoch 110/150\n",
      "4/4 [==============================] - 0s 496us/step - loss: 0.5068 - acc: 0.0000e+00\n",
      "Epoch 111/150\n",
      "4/4 [==============================] - 0s 441us/step - loss: 0.5049 - acc: 0.0000e+00\n",
      "Epoch 112/150\n",
      "4/4 [==============================] - 0s 848us/step - loss: 0.5030 - acc: 0.0000e+00\n",
      "Epoch 113/150\n",
      "4/4 [==============================] - 0s 688us/step - loss: 0.5012 - acc: 0.0000e+00\n",
      "Epoch 114/150\n",
      "4/4 [==============================] - 0s 717us/step - loss: 0.4993 - acc: 0.0000e+00\n",
      "Epoch 115/150\n",
      "4/4 [==============================] - 0s 436us/step - loss: 0.4974 - acc: 0.0000e+00\n",
      "Epoch 116/150\n",
      "4/4 [==============================] - 0s 481us/step - loss: 0.4956 - acc: 0.0000e+00\n",
      "Epoch 117/150\n",
      "4/4 [==============================] - 0s 607us/step - loss: 0.4937 - acc: 0.0000e+00\n",
      "Epoch 118/150\n",
      "4/4 [==============================] - 0s 519us/step - loss: 0.4918 - acc: 0.0000e+00\n",
      "Epoch 119/150\n",
      "4/4 [==============================] - 0s 2ms/step - loss: 0.4900 - acc: 0.0000e+00\n",
      "Epoch 120/150\n",
      "4/4 [==============================] - 0s 676us/step - loss: 0.4881 - acc: 0.0000e+00\n",
      "Epoch 121/150\n",
      "4/4 [==============================] - 0s 566us/step - loss: 0.4862 - acc: 0.0000e+00\n",
      "Epoch 122/150\n",
      "4/4 [==============================] - 0s 577us/step - loss: 0.4844 - acc: 0.0000e+00\n",
      "Epoch 123/150\n",
      "4/4 [==============================] - 0s 497us/step - loss: 0.4825 - acc: 0.0000e+00\n",
      "Epoch 124/150\n",
      "4/4 [==============================] - 0s 626us/step - loss: 0.4807 - acc: 0.0000e+00\n",
      "Epoch 125/150\n",
      "4/4 [==============================] - 0s 898us/step - loss: 0.4788 - acc: 0.0000e+00\n",
      "Epoch 126/150\n",
      "4/4 [==============================] - 0s 542us/step - loss: 0.4769 - acc: 0.0000e+00\n",
      "Epoch 127/150\n",
      "4/4 [==============================] - 0s 970us/step - loss: 0.4751 - acc: 0.0000e+00\n",
      "Epoch 128/150\n",
      "4/4 [==============================] - 0s 532us/step - loss: 0.4732 - acc: 0.0000e+00\n",
      "Epoch 129/150\n",
      "4/4 [==============================] - 0s 463us/step - loss: 0.4714 - acc: 0.0000e+00\n",
      "Epoch 130/150\n",
      "4/4 [==============================] - 0s 591us/step - loss: 0.4695 - acc: 0.0000e+00\n",
      "Epoch 131/150\n",
      "4/4 [==============================] - 0s 2ms/step - loss: 0.4677 - acc: 0.0000e+00\n",
      "Epoch 132/150\n",
      "4/4 [==============================] - 0s 622us/step - loss: 0.4658 - acc: 0.0000e+00\n",
      "Epoch 133/150\n",
      "4/4 [==============================] - 0s 510us/step - loss: 0.4640 - acc: 0.0000e+00\n",
      "Epoch 134/150\n",
      "4/4 [==============================] - 0s 978us/step - loss: 0.4621 - acc: 0.0000e+00\n",
      "Epoch 135/150\n",
      "4/4 [==============================] - 0s 410us/step - loss: 0.4603 - acc: 0.0000e+00\n",
      "Epoch 136/150\n",
      "4/4 [==============================] - 0s 808us/step - loss: 0.4584 - acc: 0.0000e+00\n",
      "Epoch 137/150\n",
      "4/4 [==============================] - 0s 1ms/step - loss: 0.4566 - acc: 0.0000e+00\n",
      "Epoch 138/150\n",
      "4/4 [==============================] - 0s 1ms/step - loss: 0.4548 - acc: 0.0000e+00\n",
      "Epoch 139/150\n",
      "4/4 [==============================] - 0s 472us/step - loss: 0.4529 - acc: 0.0000e+00\n",
      "Epoch 140/150\n",
      "4/4 [==============================] - 0s 793us/step - loss: 0.4511 - acc: 0.0000e+00\n",
      "Epoch 141/150\n",
      "4/4 [==============================] - 0s 895us/step - loss: 0.4493 - acc: 0.0000e+00\n",
      "Epoch 142/150\n",
      "4/4 [==============================] - 0s 725us/step - loss: 0.4474 - acc: 0.0000e+00\n",
      "Epoch 143/150\n",
      "4/4 [==============================] - 0s 707us/step - loss: 0.4456 - acc: 0.0000e+00\n",
      "Epoch 144/150\n",
      "4/4 [==============================] - 0s 593us/step - loss: 0.4438 - acc: 0.0000e+00\n",
      "Epoch 145/150\n",
      "4/4 [==============================] - 0s 741us/step - loss: 0.4420 - acc: 0.0000e+00\n",
      "Epoch 146/150\n",
      "4/4 [==============================] - 0s 1ms/step - loss: 0.4401 - acc: 0.0000e+00\n",
      "Epoch 147/150\n",
      "4/4 [==============================] - 0s 589us/step - loss: 0.4383 - acc: 0.0000e+00\n",
      "Epoch 148/150\n",
      "4/4 [==============================] - 0s 590us/step - loss: 0.4365 - acc: 0.0000e+00\n",
      "Epoch 149/150\n",
      "4/4 [==============================] - 0s 784us/step - loss: 0.4347 - acc: 0.0000e+00\n",
      "Epoch 150/150\n",
      "4/4 [==============================] - 0s 1ms/step - loss: 0.4329 - acc: 0.0000e+00\n"
     ]
    },
    {
     "data": {
      "text/plain": [
       "<keras.callbacks.History at 0xb2e067f28>"
      ]
     },
     "execution_count": 124,
     "metadata": {},
     "output_type": "execute_result"
    }
   ],
   "source": [
    "model.fit(mu, tau, epochs=150, batch_size=10)"
   ]
  },
  {
   "cell_type": "code",
   "execution_count": null,
   "metadata": {},
   "outputs": [],
   "source": []
  },
  {
   "cell_type": "code",
   "execution_count": null,
   "metadata": {},
   "outputs": [],
   "source": []
  },
  {
   "cell_type": "code",
   "execution_count": null,
   "metadata": {},
   "outputs": [],
   "source": []
  },
  {
   "cell_type": "code",
   "execution_count": null,
   "metadata": {},
   "outputs": [],
   "source": []
  }
 ],
 "metadata": {
  "kernelspec": {
   "display_name": "Python 3",
   "language": "python",
   "name": "python3"
  },
  "language_info": {
   "codemirror_mode": {
    "name": "ipython",
    "version": 3
   },
   "file_extension": ".py",
   "mimetype": "text/x-python",
   "name": "python",
   "nbconvert_exporter": "python",
   "pygments_lexer": "ipython3",
   "version": "3.6.8"
  }
 },
 "nbformat": 4,
 "nbformat_minor": 2
}
