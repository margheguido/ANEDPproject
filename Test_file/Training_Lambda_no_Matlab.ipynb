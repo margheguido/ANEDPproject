{
 "cells": [
  {
   "cell_type": "code",
   "execution_count": null,
   "metadata": {},
   "outputs": [],
   "source": [
    "import matlab\n",
    "import matlab.engine\n",
    "import numpy as np\n",
    "import tensorflow as tf\n",
    "import keras\n",
    "import keras.backend as K\n",
    "from keras.models import Sequential\n",
    "from keras.layers import Dense\n",
    "from keras.layers import Lambda\n",
    "\n",
    "eng = matlab.engine.start_matlab()"
   ]
  },
  {
   "cell_type": "code",
   "execution_count": null,
   "metadata": {},
   "outputs": [],
   "source": [
    "np.random.seed(7)\n",
    "X_train = np.loadtxt( \"mu_train.txt\", delimiter = \"\\n\" )\n",
    "Y_train = np.loadtxt( \"exact_sol_train.txt\", delimiter = \"\\t\" )\n",
    "print(X_train)\n",
    "print(Y_train)\n",
    "# print(len(Y_train))\n",
    "# print(len(Y_train[0]))\n",
    "\n",
    "model = Sequential()\n",
    "model.add( Dense( 12, input_dim = 1, activation = \"relu\" ) )\n",
    "model.add( Dense( 8, activation = \"relu\" ) )\n",
    "model.add( Dense( 1, activation = \"sigmoid\" ) )\n",
    "model.add( Lambda( lambda x: x*2 ) )\n",
    "\n",
    "def my_lambda_layer(x):\n",
    "    y = x\n",
    "    print(x)\n",
    "    for i in range(80):\n",
    "        y = K.concatenate( [y, x], axis=1 )\n",
    "        # print(y.shape)\n",
    "    return y\n",
    "\n",
    "def my_lambda_layer_output_shape(input_shape):\n",
    "    return (input_shape[0], 81)\n",
    "\n",
    "model.add( Lambda( my_lambda_layer, output_shape = my_lambda_layer_output_shape ) )\n",
    "\n",
    "model.summary()\n",
    "\n",
    "model.compile( loss = 'binary_crossentropy', optimizer = 'adam', metrics = ['accuracy'] )\n",
    "\n",
    "model.fit( X_train, Y_train, epochs = 100, batch_size = 10 )"
   ]
  }
 ],
 "metadata": {
  "kernelspec": {
   "display_name": "Python 3.7 (tensorflow)",
   "language": "python",
   "name": "tensorflow"
  },
  "language_info": {
   "codemirror_mode": {
    "name": "ipython",
    "version": 3
   },
   "file_extension": ".py",
   "mimetype": "text/x-python",
   "name": "python",
   "nbconvert_exporter": "python",
   "pygments_lexer": "ipython3",
   "version": "3.6.8"
  }
 },
 "nbformat": 4,
 "nbformat_minor": 2
}
