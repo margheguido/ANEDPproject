{
 "cells": [
  {
   "cell_type": "code",
   "execution_count": null,
   "metadata": {},
   "outputs": [],
   "source": [
    "# ...\n",
    "\n",
    "def output_of_lambda(input_shape):\n",
    "    return (input_shape[0], 1, input_shape[2])\n",
    "\n",
    "def mean(x):\n",
    "    return K.mean(x, axis=1, keepdims=True)\n",
    "\n",
    "model.add(Lambda(mean, output_shape=output_of_lambda))\n",
    "\n",
    "# https://keunwoochoi.wordpress.com/2016/11/18/for-beginners-writing-a-custom-keras-layer/"
   ]
  },
  {
   "cell_type": "code",
   "execution_count": null,
   "metadata": {},
   "outputs": [],
   "source": [
    "# ...\n",
    "\n",
    "model.add(Lambda(lambda i: K.expand_dims(i[:,0],-1) + i[:,1:] - K.mean(i[:,1:], keepdims=True), output_shape=(8,)))\n",
    "\n",
    "# https://stackoverflow.com/questions/53435534/keras-with-lambda-layer"
   ]
  },
  {
   "cell_type": "code",
   "execution_count": null,
   "metadata": {},
   "outputs": [],
   "source": [
    "# ...\n",
    "\n",
    "model.add(Lambda(lambda x: x ** 2))"
   ]
  },
  {
   "cell_type": "code",
   "execution_count": null,
   "metadata": {},
   "outputs": [],
   "source": [
    "# ...\n",
    "\n",
    "def antirectifier(x):\n",
    "    x -= K.mean(x, axis=1, keepdims=True)\n",
    "    x = K.l2_normalize(x, axis=1)\n",
    "    pos = K.relu(x)\n",
    "    neg = K.relu(-x)\n",
    "    return K.concatenate([pos, neg], axis=1)\n",
    "\n",
    "def antirectifier_output_shape(input_shape):\n",
    "    shape = list(input_shape)\n",
    "    assert len(shape) == 2  # only valid for 2D tensors\n",
    "    shape[-1] *= 2\n",
    "    return tuple(shape)\n",
    "\n",
    "model.add(Lambda(antirectifier,\n",
    "                 output_shape=antirectifier_output_shape))"
   ]
  },
  {
   "cell_type": "code",
   "execution_count": null,
   "metadata": {},
   "outputs": [],
   "source": [
    "# ...\n",
    "\n",
    "def tensor2np(tensor):\n",
    "    return tensor.eval(session=K.get_session())\n",
    "\n",
    "def np2tensor(np):\n",
    "    return tf.convert_to_tensor(np.reshape((1,480,480,3)))\n",
    "\n",
    "def calculate_dwt1(tensor):\n",
    "    np_input = tensor2np(tensor)\n",
    "    coeff = pywt.wavedec2((np_input[0,:,:,0]), 'db1', level=1)\n",
    "    return np2tensor(np.dstack((coeff[1][0],coeff[1][1],coeff[1][2])))\n",
    "\n",
    "lambda1 = Lambda(calculate_dwt1)(input)\n",
    "\n",
    "# https://stackanswers.net/questions/custom-function-in-lambda-layer-fails-cannot-convert-tensor-to-numpy"
   ]
  }
 ],
 "metadata": {
  "kernelspec": {
   "display_name": "Python 3",
   "language": "python",
   "name": "python3"
  },
  "language_info": {
   "codemirror_mode": {
    "name": "ipython",
    "version": 3
   },
   "file_extension": ".py",
   "mimetype": "text/x-python",
   "name": "python",
   "nbconvert_exporter": "python",
   "pygments_lexer": "ipython3",
   "version": "3.6.8"
  }
 },
 "nbformat": 4,
 "nbformat_minor": 2
}
